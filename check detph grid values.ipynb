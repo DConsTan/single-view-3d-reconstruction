{
 "cells": [
  {
   "cell_type": "code",
   "execution_count": 5,
   "metadata": {},
   "outputs": [],
   "source": [
    "import torch\n",
    "import numpy as np\n",
    "from pathlib import Path\n",
    "import pyexr\n",
    "import matplotlib.pyplot as plt\n",
    "from PIL import Image\n",
    "from data_processing.distance_to_depth import FromDistanceToDepth\n",
    "import torch.nn.functional as F"
   ]
  },
  {
   "cell_type": "code",
   "execution_count": 2,
   "metadata": {},
   "outputs": [
    {
     "name": "stdout",
     "output_type": "stream",
     "text": [
      "5\n"
     ]
    }
   ],
   "source": [
    "a = torch.arange(5)\n",
    "b = a.new(3)\n",
    "print(a.size(0))\n",
    "path = Path(\"data\")\n",
    "sample_folder = path /\"processed/overfit/00000\""
   ]
  },
  {
   "cell_type": "code",
   "execution_count": 3,
   "metadata": {},
   "outputs": [],
   "source": [
    "depth_grid = torch.from_numpy(np.load(sample_folder / \"depth_grid.npz\")['grid']).float()\n",
    "diffable_depth_grid = torch.from_numpy(np.load(sample_folder / \"diffable_depth_grid.npz\")['grid']).float()"
   ]
  },
  {
   "cell_type": "code",
   "execution_count": 10,
   "metadata": {},
   "outputs": [
    {
     "name": "stdout",
     "output_type": "stream",
     "text": [
      "tensor(0.0034)\n",
      "tensor(0.0067)\n",
      "tensor(0.0034)\n",
      "tensor([1613606.,       0.,       0.,       0.,       0.,       0.,       0.,\n",
      "              0.,       0.,       0.,       0.,       0.,       0.,       0.,\n",
      "              0.,       0.,       0.,       0.,       0.,       0.,       0.,\n",
      "              0.,       0.,       0.,       0.,       0.,       0.,       0.,\n",
      "              0.,       0.,       0.,       0.,       0.,       0.,       0.,\n",
      "              0.,       0.,       0.,       0.,       0.,       0.,       0.,\n",
      "              0.,       0.,       0.,       0.,       0.,       0.,       0.,\n",
      "              0.,       0.,       0.,       0.,       0.,       0.,       0.,\n",
      "              0.,       0.,       0.,       0.,       0.,       0.,       0.,\n",
      "              0.,       0.,       0.,       0.,       0.,       0.,       0.,\n",
      "              0.,       0.,       0.,       0.,       0.,       0.,       0.,\n",
      "              0.,       0.,       0.,       0.,       0.,       0.,       0.,\n",
      "              0.,       0.,       0.,       0.,       0.,       0.,       0.,\n",
      "              0.,       0.,       0.,       0.,       0.,       0.,       0.,\n",
      "              0.,    5466.])\n",
      "tensor([1.6072e+06, 7.6000e+01, 7.1000e+01, 4.9000e+01, 2.3000e+01, 3.5000e+01,\n",
      "        3.6000e+01, 3.0000e+01, 3.2000e+01, 2.6000e+01, 3.3000e+01, 3.1000e+01,\n",
      "        2.8000e+01, 3.5000e+01, 2.2000e+01, 2.4000e+01, 2.4000e+01, 2.3000e+01,\n",
      "        2.3000e+01, 1.8000e+01, 2.1000e+01, 2.0000e+01, 1.5000e+01, 1.5000e+01,\n",
      "        9.0000e+00, 1.4000e+01, 1.5000e+01, 1.7000e+01, 2.0000e+01, 2.3000e+01,\n",
      "        1.5000e+01, 1.8000e+01, 1.2000e+01, 9.0000e+00, 1.6000e+01, 1.2000e+01,\n",
      "        1.9000e+01, 1.5000e+01, 1.6000e+01, 1.9000e+01, 7.0000e+00, 1.4000e+01,\n",
      "        1.7000e+01, 1.0000e+01, 1.3000e+01, 8.0000e+00, 1.2000e+01, 8.0000e+00,\n",
      "        8.0000e+00, 1.0000e+01, 8.0000e+00, 1.3000e+01, 7.0000e+00, 8.0000e+00,\n",
      "        9.0000e+00, 1.6000e+01, 1.2000e+01, 9.0000e+00, 3.0000e+00, 8.0000e+00,\n",
      "        1.3000e+01, 1.1000e+01, 7.0000e+00, 1.2000e+01, 1.1000e+01, 8.0000e+00,\n",
      "        6.0000e+00, 1.0000e+01, 9.0000e+00, 7.0000e+00, 1.2000e+01, 9.0000e+00,\n",
      "        7.0000e+00, 9.0000e+00, 1.2000e+01, 1.0000e+01, 6.0000e+00, 7.0000e+00,\n",
      "        1.1000e+01, 5.0000e+00, 9.0000e+00, 5.0000e+00, 8.0000e+00, 6.0000e+00,\n",
      "        9.0000e+00, 9.0000e+00, 4.0000e+00, 8.0000e+00, 6.0000e+00, 9.0000e+00,\n",
      "        6.0000e+00, 7.0000e+00, 3.0000e+00, 1.2000e+01, 5.0000e+00, 8.0000e+00,\n",
      "        5.0000e+00, 1.0000e+01, 1.3000e+01, 1.0415e+04])\n"
     ]
    }
   ],
   "source": [
    "print(depth_grid.mean())\n",
    "print(diffable_depth_grid.mean())\n",
    "print((diffable_depth_grid - depth_grid).mean())\n",
    "print(depth_grid.histc()) ##[0,1 in 100 bins]\n",
    "print(diffable_depth_grid.histc())"
   ]
  },
  {
   "cell_type": "code",
   "execution_count": 8,
   "metadata": {},
   "outputs": [],
   "source": [
    "x = torch.rand([2,139,104,112]).unsqueeze(1)\n",
    "p = torch.rand([2,1,7,76800,3])\n",
    "feature_0 = F.grid_sample(x, p, align_corners = True)\n",
    "# shapes: torch.Size([1, 1, 139, 104, 112]) torch.Size([1, 1, 7, 4096, 3])\n"
   ]
  }
 ],
 "metadata": {
  "kernelspec": {
   "display_name": "Python 3",
   "language": "python",
   "name": "python3"
  },
  "language_info": {
   "codemirror_mode": {
    "name": "ipython",
    "version": 3
   },
   "file_extension": ".py",
   "mimetype": "text/x-python",
   "name": "python",
   "nbconvert_exporter": "python",
   "pygments_lexer": "ipython3",
   "version": "3.8.5"
  }
 },
 "nbformat": 4,
 "nbformat_minor": 4
}
